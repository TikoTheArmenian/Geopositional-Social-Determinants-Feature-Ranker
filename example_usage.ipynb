{
 "cells": [
  {
   "cell_type": "code",
   "execution_count": 25,
   "metadata": {
    "collapsed": false,
    "pycharm": {
     "name": "#%%\n"
    }
   },
   "outputs": [],
   "source": [
    "import pandas as pd\n",
    "from sklearn.datasets import load_diabetes\n",
    "import warnings\n",
    "\n",
    "warnings.filterwarnings('ignore')\n",
    "\n",
    "from utils import *\n",
    "from rankers import *"
   ]
  },
  {
   "cell_type": "code",
   "execution_count": 2,
   "metadata": {
    "collapsed": false,
    "pycharm": {
     "name": "#%%\n"
    }
   },
   "outputs": [
    {
     "data": {
      "text/html": [
       "<div>\n",
       "<style scoped>\n",
       "    .dataframe tbody tr th:only-of-type {\n",
       "        vertical-align: middle;\n",
       "    }\n",
       "\n",
       "    .dataframe tbody tr th {\n",
       "        vertical-align: top;\n",
       "    }\n",
       "\n",
       "    .dataframe thead th {\n",
       "        text-align: right;\n",
       "    }\n",
       "</style>\n",
       "<table border=\"1\" class=\"dataframe\">\n",
       "  <thead>\n",
       "    <tr style=\"text-align: right;\">\n",
       "      <th></th>\n",
       "      <th>age</th>\n",
       "      <th>sex</th>\n",
       "      <th>bmi</th>\n",
       "      <th>bp</th>\n",
       "      <th>s1</th>\n",
       "      <th>s2</th>\n",
       "      <th>s3</th>\n",
       "      <th>s4</th>\n",
       "      <th>s5</th>\n",
       "      <th>s6</th>\n",
       "      <th>target</th>\n",
       "    </tr>\n",
       "  </thead>\n",
       "  <tbody>\n",
       "    <tr>\n",
       "      <th>0</th>\n",
       "      <td>0.038076</td>\n",
       "      <td>0.050680</td>\n",
       "      <td>0.061696</td>\n",
       "      <td>0.021872</td>\n",
       "      <td>-0.044223</td>\n",
       "      <td>-0.034821</td>\n",
       "      <td>-0.043401</td>\n",
       "      <td>-0.002592</td>\n",
       "      <td>0.019907</td>\n",
       "      <td>-0.017646</td>\n",
       "      <td>151.0</td>\n",
       "    </tr>\n",
       "    <tr>\n",
       "      <th>1</th>\n",
       "      <td>-0.001882</td>\n",
       "      <td>-0.044642</td>\n",
       "      <td>-0.051474</td>\n",
       "      <td>-0.026328</td>\n",
       "      <td>-0.008449</td>\n",
       "      <td>-0.019163</td>\n",
       "      <td>0.074412</td>\n",
       "      <td>-0.039493</td>\n",
       "      <td>-0.068332</td>\n",
       "      <td>-0.092204</td>\n",
       "      <td>75.0</td>\n",
       "    </tr>\n",
       "    <tr>\n",
       "      <th>2</th>\n",
       "      <td>0.085299</td>\n",
       "      <td>0.050680</td>\n",
       "      <td>0.044451</td>\n",
       "      <td>-0.005670</td>\n",
       "      <td>-0.045599</td>\n",
       "      <td>-0.034194</td>\n",
       "      <td>-0.032356</td>\n",
       "      <td>-0.002592</td>\n",
       "      <td>0.002861</td>\n",
       "      <td>-0.025930</td>\n",
       "      <td>141.0</td>\n",
       "    </tr>\n",
       "    <tr>\n",
       "      <th>3</th>\n",
       "      <td>-0.089063</td>\n",
       "      <td>-0.044642</td>\n",
       "      <td>-0.011595</td>\n",
       "      <td>-0.036656</td>\n",
       "      <td>0.012191</td>\n",
       "      <td>0.024991</td>\n",
       "      <td>-0.036038</td>\n",
       "      <td>0.034309</td>\n",
       "      <td>0.022688</td>\n",
       "      <td>-0.009362</td>\n",
       "      <td>206.0</td>\n",
       "    </tr>\n",
       "    <tr>\n",
       "      <th>4</th>\n",
       "      <td>0.005383</td>\n",
       "      <td>-0.044642</td>\n",
       "      <td>-0.036385</td>\n",
       "      <td>0.021872</td>\n",
       "      <td>0.003935</td>\n",
       "      <td>0.015596</td>\n",
       "      <td>0.008142</td>\n",
       "      <td>-0.002592</td>\n",
       "      <td>-0.031988</td>\n",
       "      <td>-0.046641</td>\n",
       "      <td>135.0</td>\n",
       "    </tr>\n",
       "  </tbody>\n",
       "</table>\n",
       "</div>"
      ],
      "text/plain": [
       "        age       sex       bmi        bp        s1        s2        s3  \\\n",
       "0  0.038076  0.050680  0.061696  0.021872 -0.044223 -0.034821 -0.043401   \n",
       "1 -0.001882 -0.044642 -0.051474 -0.026328 -0.008449 -0.019163  0.074412   \n",
       "2  0.085299  0.050680  0.044451 -0.005670 -0.045599 -0.034194 -0.032356   \n",
       "3 -0.089063 -0.044642 -0.011595 -0.036656  0.012191  0.024991 -0.036038   \n",
       "4  0.005383 -0.044642 -0.036385  0.021872  0.003935  0.015596  0.008142   \n",
       "\n",
       "         s4        s5        s6  target  \n",
       "0 -0.002592  0.019907 -0.017646   151.0  \n",
       "1 -0.039493 -0.068332 -0.092204    75.0  \n",
       "2 -0.002592  0.002861 -0.025930   141.0  \n",
       "3  0.034309  0.022688 -0.009362   206.0  \n",
       "4 -0.002592 -0.031988 -0.046641   135.0  "
      ]
     },
     "execution_count": 2,
     "metadata": {},
     "output_type": "execute_result"
    }
   ],
   "source": [
    "diabetes = load_diabetes(as_frame=True)\n",
    "df = diabetes.data.merge(diabetes.target, left_index=True, right_index=True)\n",
    "df.head()"
   ]
  },
  {
   "cell_type": "code",
   "execution_count": 3,
   "metadata": {
    "collapsed": false,
    "pycharm": {
     "name": "#%%\n"
    }
   },
   "outputs": [
    {
     "name": "stdout",
     "output_type": "stream",
     "text": [
      "The column age has 0.0% NaN values.\n",
      "The column sex has 0.0% NaN values.\n",
      "The column bmi has 0.0% NaN values.\n",
      "The column bp has 0.0% NaN values.\n",
      "The column s1 has 0.0% NaN values.\n",
      "The column s2 has 0.0% NaN values.\n",
      "The column s3 has 0.0% NaN values.\n",
      "The column s4 has 0.0% NaN values.\n",
      "The column s5 has 0.0% NaN values.\n",
      "The column s6 has 0.0% NaN values.\n",
      "The column target has 0.0% NaN values.\n"
     ]
    }
   ],
   "source": [
    "view_data(df)"
   ]
  },
  {
   "cell_type": "code",
   "execution_count": 4,
   "metadata": {
    "collapsed": false,
    "pycharm": {
     "name": "#%%\n"
    }
   },
   "outputs": [
    {
     "data": {
      "text/plain": [
       "(442, 10)"
      ]
     },
     "execution_count": 4,
     "metadata": {},
     "output_type": "execute_result"
    }
   ],
   "source": [
    "X, y = get_data(df, labels='target')\n",
    "X.shape"
   ]
  },
  {
   "cell_type": "code",
   "execution_count": 29,
   "metadata": {
    "collapsed": false,
    "pycharm": {
     "name": "#%%\n"
    }
   },
   "outputs": [
    {
     "name": "stdout",
     "output_type": "stream",
     "text": [
      "Fitting 5 folds for each of 50 candidates, totalling 250 fits\n",
      "Best spearmn for XGBoost: 0.6622266968033357\n",
      "Fitting 5 folds for each of 50 candidates, totalling 250 fits\n",
      "Best spearmn for Random_Forest: 0.6613465169763042\n"
     ]
    },
    {
     "data": {
      "text/plain": [
       "[{'model': 'XGBoost',\n",
       "  'best_score': 0.6622266968033357,\n",
       "  'best_params': {'subsample': 0.6666666666666666,\n",
       "   'reg_lambda': 46.41588833612777,\n",
       "   'reg_alpha': 46.41588833612777,\n",
       "   'n_estimators': 1000,\n",
       "   'min_child_weight': 1,\n",
       "   'max_depth': 3,\n",
       "   'learning_rate': 0.01544452104946379,\n",
       "   'gamma': 0.4444444444444444,\n",
       "   'colsample_bytree': 0.5555555555555556}},\n",
       " {'model': 'Random_Forest',\n",
       "  'best_score': 0.6613465169763042,\n",
       "  'best_params': {'n_estimators': 560,\n",
       "   'min_samples_split': 2,\n",
       "   'min_samples_leaf': 4,\n",
       "   'max_features': 'sqrt',\n",
       "   'max_depth': 70,\n",
       "   'bootstrap': True}}]"
      ]
     },
     "execution_count": 29,
     "metadata": {},
     "output_type": "execute_result"
    }
   ],
   "source": [
    "hypers = regression_hyper_param_search(X, y, 5, 50)\n",
    "hypers"
   ]
  },
  {
   "cell_type": "code",
   "execution_count": 30,
   "metadata": {},
   "outputs": [],
   "source": [
    "rf_hypers = hypers[1]['best_params']\n",
    "xb_hypers = hypers[0]['best_params']"
   ]
  },
  {
   "cell_type": "code",
   "execution_count": 31,
   "metadata": {},
   "outputs": [
    {
     "data": {
      "application/vnd.jupyter.widget-view+json": {
       "model_id": "a9cd4c775dfc47db8310aef70eccb345",
       "version_major": 2,
       "version_minor": 0
      },
      "text/plain": [
       "Finding Alpha Step:   0%|          | 0/30 [00:00<?, ?it/s]"
      ]
     },
     "metadata": {},
     "output_type": "display_data"
    },
    {
     "data": {
      "application/vnd.jupyter.widget-view+json": {
       "model_id": "223f736754f14662850e7fb68ee13132",
       "version_major": 2,
       "version_minor": 0
      },
      "text/plain": [
       "Ranking l1 Regression:   0%|          | 0/10000 [00:00<?, ?it/s]"
      ]
     },
     "metadata": {},
     "output_type": "display_data"
    },
    {
     "data": {
      "text/html": [
       "<div>\n",
       "<style scoped>\n",
       "    .dataframe tbody tr th:only-of-type {\n",
       "        vertical-align: middle;\n",
       "    }\n",
       "\n",
       "    .dataframe tbody tr th {\n",
       "        vertical-align: top;\n",
       "    }\n",
       "\n",
       "    .dataframe thead th {\n",
       "        text-align: right;\n",
       "    }\n",
       "</style>\n",
       "<table border=\"1\" class=\"dataframe\">\n",
       "  <thead>\n",
       "    <tr style=\"text-align: right;\">\n",
       "      <th></th>\n",
       "      <th>RF</th>\n",
       "      <th>Score</th>\n",
       "      <th>XG</th>\n",
       "      <th>Score</th>\n",
       "      <th>MI</th>\n",
       "      <th>Score</th>\n",
       "      <th>F</th>\n",
       "      <th>Score</th>\n",
       "      <th>Feature</th>\n",
       "      <th>Score</th>\n",
       "    </tr>\n",
       "  </thead>\n",
       "  <tbody>\n",
       "    <tr>\n",
       "      <th>0</th>\n",
       "      <td>s5</td>\n",
       "      <td>0.256753</td>\n",
       "      <td>bmi</td>\n",
       "      <td>0.222327</td>\n",
       "      <td>bmi</td>\n",
       "      <td>0.171543</td>\n",
       "      <td>bmi</td>\n",
       "      <td>230.653764</td>\n",
       "      <td>bmi</td>\n",
       "      <td>45.161</td>\n",
       "    </tr>\n",
       "    <tr>\n",
       "      <th>1</th>\n",
       "      <td>bmi</td>\n",
       "      <td>0.253588</td>\n",
       "      <td>s5</td>\n",
       "      <td>0.210380</td>\n",
       "      <td>s5</td>\n",
       "      <td>0.144718</td>\n",
       "      <td>s5</td>\n",
       "      <td>207.271194</td>\n",
       "      <td>s5</td>\n",
       "      <td>42.301</td>\n",
       "    </tr>\n",
       "    <tr>\n",
       "      <th>2</th>\n",
       "      <td>bp</td>\n",
       "      <td>0.118178</td>\n",
       "      <td>s4</td>\n",
       "      <td>0.122775</td>\n",
       "      <td>s6</td>\n",
       "      <td>0.119368</td>\n",
       "      <td>bp</td>\n",
       "      <td>106.520131</td>\n",
       "      <td>bp</td>\n",
       "      <td>21.542</td>\n",
       "    </tr>\n",
       "    <tr>\n",
       "      <th>3</th>\n",
       "      <td>s3</td>\n",
       "      <td>0.079558</td>\n",
       "      <td>bp</td>\n",
       "      <td>0.108313</td>\n",
       "      <td>s4</td>\n",
       "      <td>0.095004</td>\n",
       "      <td>s4</td>\n",
       "      <td>100.069264</td>\n",
       "      <td>sex</td>\n",
       "      <td>6.189</td>\n",
       "    </tr>\n",
       "    <tr>\n",
       "      <th>4</th>\n",
       "      <td>s6</td>\n",
       "      <td>0.076546</td>\n",
       "      <td>sex</td>\n",
       "      <td>0.070951</td>\n",
       "      <td>bp</td>\n",
       "      <td>0.070096</td>\n",
       "      <td>s3</td>\n",
       "      <td>81.239659</td>\n",
       "      <td>s6</td>\n",
       "      <td>4.223</td>\n",
       "    </tr>\n",
       "    <tr>\n",
       "      <th>5</th>\n",
       "      <td>s4</td>\n",
       "      <td>0.068036</td>\n",
       "      <td>s6</td>\n",
       "      <td>0.065961</td>\n",
       "      <td>s1</td>\n",
       "      <td>0.068058</td>\n",
       "      <td>s6</td>\n",
       "      <td>75.399683</td>\n",
       "      <td>s1</td>\n",
       "      <td>3.281</td>\n",
       "    </tr>\n",
       "    <tr>\n",
       "      <th>6</th>\n",
       "      <td>s2</td>\n",
       "      <td>0.047342</td>\n",
       "      <td>s3</td>\n",
       "      <td>0.065427</td>\n",
       "      <td>s3</td>\n",
       "      <td>0.061307</td>\n",
       "      <td>s1</td>\n",
       "      <td>20.710567</td>\n",
       "      <td>s4</td>\n",
       "      <td>0.951</td>\n",
       "    </tr>\n",
       "    <tr>\n",
       "      <th>7</th>\n",
       "      <td>s1</td>\n",
       "      <td>0.045287</td>\n",
       "      <td>s2</td>\n",
       "      <td>0.048190</td>\n",
       "      <td>sex</td>\n",
       "      <td>0.025629</td>\n",
       "      <td>age</td>\n",
       "      <td>16.101374</td>\n",
       "      <td>s2</td>\n",
       "      <td>0.260</td>\n",
       "    </tr>\n",
       "    <tr>\n",
       "      <th>8</th>\n",
       "      <td>age</td>\n",
       "      <td>0.042137</td>\n",
       "      <td>age</td>\n",
       "      <td>0.044792</td>\n",
       "      <td>s2</td>\n",
       "      <td>0.011763</td>\n",
       "      <td>s2</td>\n",
       "      <td>13.746079</td>\n",
       "      <td>age</td>\n",
       "      <td>0.242</td>\n",
       "    </tr>\n",
       "    <tr>\n",
       "      <th>9</th>\n",
       "      <td>sex</td>\n",
       "      <td>0.012575</td>\n",
       "      <td>s1</td>\n",
       "      <td>0.040885</td>\n",
       "      <td>age</td>\n",
       "      <td>0.000000</td>\n",
       "      <td>sex</td>\n",
       "      <td>0.817423</td>\n",
       "      <td>s3</td>\n",
       "      <td>0.062</td>\n",
       "    </tr>\n",
       "  </tbody>\n",
       "</table>\n",
       "</div>"
      ],
      "text/plain": [
       "    RF     Score   XG     Score   MI     Score    F       Score Feature  \\\n",
       "0   s5  0.256753  bmi  0.222327  bmi  0.171543  bmi  230.653764     bmi   \n",
       "1  bmi  0.253588   s5  0.210380   s5  0.144718   s5  207.271194      s5   \n",
       "2   bp  0.118178   s4  0.122775   s6  0.119368   bp  106.520131      bp   \n",
       "3   s3  0.079558   bp  0.108313   s4  0.095004   s4  100.069264     sex   \n",
       "4   s6  0.076546  sex  0.070951   bp  0.070096   s3   81.239659      s6   \n",
       "5   s4  0.068036   s6  0.065961   s1  0.068058   s6   75.399683      s1   \n",
       "6   s2  0.047342   s3  0.065427   s3  0.061307   s1   20.710567      s4   \n",
       "7   s1  0.045287   s2  0.048190  sex  0.025629  age   16.101374      s2   \n",
       "8  age  0.042137  age  0.044792   s2  0.011763   s2   13.746079     age   \n",
       "9  sex  0.012575   s1  0.040885  age  0.000000  sex    0.817423      s3   \n",
       "\n",
       "    Score  \n",
       "0  45.161  \n",
       "1  42.301  \n",
       "2  21.542  \n",
       "3   6.189  \n",
       "4   4.223  \n",
       "5   3.281  \n",
       "6   0.951  \n",
       "7   0.260  \n",
       "8   0.242  \n",
       "9   0.062  "
      ]
     },
     "execution_count": 31,
     "metadata": {},
     "output_type": "execute_result"
    }
   ],
   "source": [
    "ranking = regression_ranking(X, y, rf_hypers, xb_hypers)\n",
    "ranking"
   ]
  },
  {
   "cell_type": "code",
   "execution_count": null,
   "metadata": {},
   "outputs": [],
   "source": []
  }
 ],
 "metadata": {
  "kernelspec": {
   "display_name": "Python 3",
   "language": "python",
   "name": "python3"
  },
  "language_info": {
   "codemirror_mode": {
    "name": "ipython",
    "version": 3
   },
   "file_extension": ".py",
   "mimetype": "text/x-python",
   "name": "python",
   "nbconvert_exporter": "python",
   "pygments_lexer": "ipython3",
   "version": "3.10.5"
  }
 },
 "nbformat": 4,
 "nbformat_minor": 0
}
